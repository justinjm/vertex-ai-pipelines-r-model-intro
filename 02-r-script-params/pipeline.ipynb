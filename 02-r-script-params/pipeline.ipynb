{
 "cells": [
  {
   "cell_type": "markdown",
   "id": "0bc60c0b-d04c-42f1-9395-991324eea2fe",
   "metadata": {},
   "source": [
    "# 02 - Vertex Pipelines with R  \n",
    "\n"
   ]
  },
  {
   "cell_type": "markdown",
   "id": "7e617a03-c85e-44ec-a5d0-d204b4a77af8",
   "metadata": {
    "id": "0LJoJtdpmTBF"
   },
   "source": [
    "#### Install Vertex SDK for Python"
   ]
  },
  {
   "cell_type": "markdown",
   "id": "a68eba81-0f50-418e-8e76-c7c92289c900",
   "metadata": {
    "id": "gf7MPUI1mTBF"
   },
   "source": [
    "We will be using [Vertex SDK for Python](https://cloud.google.com/vertex-ai/docs/start/client-libraries#python) to interact with Vertex AI services. The high-level aiplatform library is designed to simplify common data science workflows by using wrapper classes and opinionated defaults."
   ]
  },
  {
   "cell_type": "code",
   "execution_count": null,
   "id": "ed2c95e3-a667-4c4e-a4a6-1591c544b92d",
   "metadata": {
    "id": "aR7LNYMUCVKc"
   },
   "outputs": [],
   "source": [
    "!pip -q install --user --upgrade kfp\n",
    "!pip -q install --user --upgrade google-cloud-pipeline-components \n",
    "!pip -q install --user --upgrade google-cloud-aiplatform"
   ]
  },
  {
   "cell_type": "markdown",
   "id": "9157e90b-008f-4898-92b9-fcc18678e766",
   "metadata": {
    "id": "hhq5zEbGg0XX"
   },
   "source": [
    "### Restart the kernel\n",
    "\n",
    "After you install the additional packages, you need to restart the notebook kernel so it can find the packages."
   ]
  },
  {
   "cell_type": "code",
   "execution_count": null,
   "id": "e178278d-e6d9-4e8a-9c4a-e34491f56ab7",
   "metadata": {
    "id": "EzrelQZ22IZj"
   },
   "outputs": [],
   "source": [
    "# Automatically restart kernel after installs\n",
    "import os\n",
    "\n",
    "if not os.getenv(\"IS_TESTING\"):\n",
    "    # Automatically restart kernel after installs\n",
    "    import IPython\n",
    "\n",
    "    app = IPython.Application.instance()\n",
    "    app.kernel.do_shutdown(True)"
   ]
  },
  {
   "cell_type": "markdown",
   "id": "a873cd1a-c5dc-43ec-8930-54a842b64ba5",
   "metadata": {
    "id": "6GPgNN7eeX1l"
   },
   "source": [
    "Check the versions of the packages you installed.  The KFP SDK version should be >=1.6."
   ]
  },
  {
   "cell_type": "code",
   "execution_count": null,
   "id": "96b4a1d0-ab07-4453-809d-e116b3a60120",
   "metadata": {
    "id": "NN0mULkEeb84"
   },
   "outputs": [],
   "source": [
    "! python3 -c \"import kfp; print('kfp version: {}'.format(kfp.__version__))\"\n",
    "! python3 -c \"import google_cloud_pipeline_components; print('google_cloud_pipeline_components version: {}'.format(google_cloud_pipeline_components.__version__))\""
   ]
  },
  {
   "cell_type": "markdown",
   "id": "50cd38bb-f621-46bf-af1c-77493d3f1865",
   "metadata": {
    "id": "lWEdiXsJg0XY"
   },
   "source": [
    "## Before you begin"
   ]
  },
  {
   "cell_type": "markdown",
   "id": "b07a63d8-7db8-4213-af17-4f92b4a160de",
   "metadata": {
    "id": "WReHDGG5g0XY"
   },
   "source": [
    "#### Set your project ID\n",
    "\n",
    "**If you don't know your project ID**, you may be able to get your project ID using `gcloud`."
   ]
  },
  {
   "cell_type": "code",
   "execution_count": 1,
   "id": "ea5cddce-0f56-451f-9f52-3f734e530c46",
   "metadata": {
    "id": "oM1iC_MfAts1"
   },
   "outputs": [
    {
     "name": "stdout",
     "output_type": "stream",
     "text": [
      "Project ID:  demos-vertex-ai\n"
     ]
    }
   ],
   "source": [
    "import os\n",
    "# Get your Google Cloud project ID from gcloud\n",
    "shell_output=!gcloud config list --format 'value(core.project)' 2>/dev/null\n",
    "\n",
    "try:\n",
    "    PROJECT_ID = shell_output[0]\n",
    "except IndexError:\n",
    "    PROJECT_ID = None\n",
    "\n",
    "# Get your Google Cloud project ID from gcloud\n",
    "if not os.getenv(\"IS_TESTING\"):\n",
    "    shell_output=!gcloud config list --format 'value(core.project)' 2>/dev/null\n",
    "    PROJECT_ID = shell_output[0]\n",
    "    print(\"Project ID: \", PROJECT_ID)"
   ]
  },
  {
   "cell_type": "markdown",
   "id": "4aca3e96-e9a9-4bc6-96e3-8d0f9858a527",
   "metadata": {
    "id": "06571eb4063b"
   },
   "source": [
    "#### Timestamp\n",
    "\n",
    "If you are in a live tutorial session, you might be using a shared test account or project. To avoid name collisions between users on resources created, you create a timestamp for each instance session, and append it onto the name of resources you create in this tutorial."
   ]
  },
  {
   "cell_type": "code",
   "execution_count": 2,
   "id": "e1933eb5-1294-48fc-8b22-a6a6d5d47fc0",
   "metadata": {
    "id": "697568e92bd6"
   },
   "outputs": [
    {
     "name": "stdout",
     "output_type": "stream",
     "text": [
      "TIMESTAMP = 20221110202015\n"
     ]
    }
   ],
   "source": [
    "from datetime import datetime\n",
    "\n",
    "def get_timestamp():\n",
    "    return datetime.now().strftime(\"%Y%m%d%H%M%S\")\n",
    "\n",
    "TIMESTAMP = get_timestamp()\n",
    "print(f\"TIMESTAMP = {TIMESTAMP}\")"
   ]
  },
  {
   "cell_type": "markdown",
   "id": "4e6c9e5c-069b-4d37-aeac-2d3a03b16853",
   "metadata": {
    "id": "NxhCPW6e46EF",
    "tags": []
   },
   "source": [
    "### Create a Cloud Storage bucket as necessary\n",
    "\n"
   ]
  },
  {
   "cell_type": "code",
   "execution_count": 3,
   "id": "5dfa04d1-e2e5-4f33-9294-62ca7cf97c1c",
   "metadata": {
    "id": "kZPew6MljTcP"
   },
   "outputs": [],
   "source": [
    "BUCKET_NAME = \"gs://[your-bucket-name]\"  # @param {type:\"string\"}\n",
    "REGION = \"us-central1\"  # @param {type:\"string\"}"
   ]
  },
  {
   "cell_type": "code",
   "execution_count": 4,
   "id": "ce5d44fa-3db2-4206-a9d5-cca7fb31168c",
   "metadata": {
    "id": "cf221059d072"
   },
   "outputs": [
    {
     "data": {
      "text/plain": [
       "'gs://demos-vertex-ai-aip-r-model-02-20221110202015'"
      ]
     },
     "execution_count": 4,
     "metadata": {},
     "output_type": "execute_result"
    }
   ],
   "source": [
    "if BUCKET_NAME == \"\" or BUCKET_NAME is None or BUCKET_NAME == \"gs://[your-bucket-name]\":\n",
    "    BUCKET_NAME = \"gs://\" + PROJECT_ID + \"-aip-r-model-02-\" + TIMESTAMP\n",
    "BUCKET_NAME"
   ]
  },
  {
   "cell_type": "markdown",
   "id": "75883195-1510-40e6-ab4f-9715efc0bda4",
   "metadata": {
    "id": "-EcIXiGsCePi"
   },
   "source": [
    "**Only if your bucket doesn't already exist**: Run the following cell to create your Cloud Storage bucket."
   ]
  },
  {
   "cell_type": "code",
   "execution_count": 5,
   "id": "e582f074-c88f-4784-b28c-3b2871ab328c",
   "metadata": {
    "id": "NIq7R4HZCfIc"
   },
   "outputs": [
    {
     "name": "stdout",
     "output_type": "stream",
     "text": [
      "Creating gs://demos-vertex-ai-aip-r-model-02-20221110202015/...\n"
     ]
    }
   ],
   "source": [
    "! gsutil mb -l $REGION $BUCKET_NAME"
   ]
  },
  {
   "cell_type": "markdown",
   "id": "f2ce2d31-2742-4b4e-b616-f509df08c4bf",
   "metadata": {
    "id": "ucvCsknMCims"
   },
   "source": [
    "Finally, validate access to your Cloud Storage bucket by examining its contents:"
   ]
  },
  {
   "cell_type": "code",
   "execution_count": 6,
   "id": "2d7414a6-2f89-495f-9f0b-aff531b217f4",
   "metadata": {
    "id": "vhOb7YnwClBb"
   },
   "outputs": [],
   "source": [
    "! gsutil ls -al $BUCKET_NAME"
   ]
  },
  {
   "cell_type": "markdown",
   "id": "047b26bb-1ae8-4d50-b93f-d2add79153fb",
   "metadata": {
    "id": "e3EQyqZiEMmf",
    "tags": []
   },
   "source": [
    "### Import libraries and define constants"
   ]
  },
  {
   "cell_type": "markdown",
   "id": "f245bc68-cc16-46ec-8a55-1ae76b26ad1b",
   "metadata": {
    "id": "lNV3Jd8BEMmj"
   },
   "source": [
    "Define some constants. See the \"Before you begin\" section of the Managed Pipelines User Guide for information on creating your API key."
   ]
  },
  {
   "cell_type": "code",
   "execution_count": 7,
   "id": "8f8d3a5e-5974-470c-9a50-a1ad9a5ac7b5",
   "metadata": {
    "id": "rkux57WHmTBL"
   },
   "outputs": [],
   "source": [
    "APP_NAME = \"r-model-02\""
   ]
  },
  {
   "cell_type": "markdown",
   "id": "bd3c44cd-556c-45dd-b521-d8de22441ddb",
   "metadata": {
    "id": "wbY_UZSvEMmk"
   },
   "source": [
    "Do some imports:"
   ]
  },
  {
   "cell_type": "code",
   "execution_count": 9,
   "id": "160bf835-1877-4db0-9301-4f6a28ecadd9",
   "metadata": {
    "id": "lnz2aQ_EEMmk"
   },
   "outputs": [],
   "source": [
    "import json\n",
    "from typing import NamedTuple, List\n",
    "\n",
    "from google_cloud_pipeline_components import aiplatform as aip_components\n",
    "from google_cloud_pipeline_components.v1.custom_job import CustomTrainingJobOp\n",
    "        \n",
    "from google_cloud_pipeline_components.types import artifact_types\n",
    "from google.cloud import aiplatform\n",
    "from google.cloud.aiplatform import pipeline_jobs\n",
    "\n",
    "from kfp.v2 import compiler\n",
    "from kfp.v2 import dsl\n",
    "from kfp.v2 import components"
   ]
  },
  {
   "cell_type": "code",
   "execution_count": 10,
   "id": "73c97867-dba1-41e0-9d3d-a16fd4264b32",
   "metadata": {},
   "outputs": [
    {
     "name": "stdout",
     "output_type": "stream",
     "text": [
      "mkdir: cannot create directory ‘./src’: File exists\n"
     ]
    }
   ],
   "source": [
    "! mkdir ./src"
   ]
  },
  {
   "cell_type": "markdown",
   "id": "dab6af7f-686c-4b2f-a733-dbd65e4ff266",
   "metadata": {},
   "source": [
    "#### Enable Artifact Registry API\n",
    "\n",
    "First, you must enable the Artifact Registry API service for your project.\n",
    "\n",
    "Learn more about [Enabling service](https://cloud.google.com/artifact-registry/docs/enable-service)."
   ]
  },
  {
   "cell_type": "code",
   "execution_count": 11,
   "id": "c4c8f6bc-d44b-4644-9a56-e02f0c1ff60c",
   "metadata": {},
   "outputs": [],
   "source": [
    "! gcloud services enable artifactregistry.googleapis.com"
   ]
  },
  {
   "cell_type": "markdown",
   "id": "2d239b8c-9b15-471b-8f6e-2ff137ff8efd",
   "metadata": {},
   "source": [
    "#### Create a private Docker repository\n",
    "\n",
    "Your first step is to create your own Docker repository in Google Artifact Registry.\n",
    "\n",
    "1. Run the `gcloud artifacts repositories create` command to create a new Docker repository with your region with the description \"docker repository\".\n",
    "\n",
    "2. Run the `gcloud artifacts repositories list` command to verify that your repository was created."
   ]
  },
  {
   "cell_type": "code",
   "execution_count": 12,
   "id": "89f13bbd-0360-4030-bd26-1c248b29b2b8",
   "metadata": {},
   "outputs": [],
   "source": [
    "PRIVATE_REPO = \"r-model-02\""
   ]
  },
  {
   "cell_type": "code",
   "execution_count": 13,
   "id": "ac48230f-64bb-462a-8ef8-f308b5dbf914",
   "metadata": {},
   "outputs": [
    {
     "name": "stdout",
     "output_type": "stream",
     "text": [
      "Create request issued for: [r-model-02]\n",
      "Waiting for operation [projects/demos-vertex-ai/locations/us-central1/operation\n",
      "s/6cd3d644-df78-4b4e-8933-4f37eff94d04] to complete...done.                    \n",
      "Created repository [r-model-02].\n"
     ]
    }
   ],
   "source": [
    "! gcloud artifacts repositories create $PRIVATE_REPO --repository-format=docker \\\n",
    "    --location=$REGION \\\n",
    "    --description=\"Docker repository for R testing\""
   ]
  },
  {
   "cell_type": "code",
   "execution_count": 14,
   "id": "62682f2e-2119-45c2-9b21-621fd13da4e5",
   "metadata": {},
   "outputs": [
    {
     "name": "stdout",
     "output_type": "stream",
     "text": [
      "Listing items under project demos-vertex-ai, across all locations.\n",
      "\n",
      "                                                                            ARTIFACT_REGISTRY\n",
      "REPOSITORY      FORMAT  MODE                 DESCRIPTION                      LOCATION     LABELS  ENCRYPTION          CREATE_TIME          UPDATE_TIME          SIZE (MB)\n",
      "asia.gcr.io     DOCKER  STANDARD_REPOSITORY                                   asia                 Google-managed key  2022-10-18T19:20:32  2022-10-18T19:20:32  0\n",
      "automl-beans    DOCKER  STANDARD_REPOSITORY  Docker repository                us-central1          Google-managed key  2022-10-19T20:07:45  2022-10-28T19:53:13  2939.842\n",
      "eu.gcr.io       DOCKER  STANDARD_REPOSITORY                                   europe               Google-managed key  2022-10-18T19:20:25  2022-10-18T19:20:25  0\n",
      "gcr.io          DOCKER  STANDARD_REPOSITORY                                   us                   Google-managed key  2022-10-18T19:20:17  2022-10-18T19:20:17  0\n",
      "my-docker-repo  DOCKER  STANDARD_REPOSITORY  Docker repository                us-central1          Google-managed key  2022-11-03T14:23:47  2022-11-03T14:38:51  2448.807\n",
      "r-model-02      DOCKER  STANDARD_REPOSITORY  Docker repository for R testing  us-central1          Google-managed key  2022-11-10T20:21:36  2022-11-10T20:21:36  0\n",
      "r-on-vertex     DOCKER  STANDARD_REPOSITORY  Docker repository                us-central1          Google-managed key  2022-10-10T19:11:01  2022-10-10T19:29:41  2448.343\n",
      "r-test-repo     DOCKER  STANDARD_REPOSITORY  Docker repository for R testing  us-central1          Google-managed key  2022-11-09T16:59:10  2022-11-09T21:39:30  2470.709\n",
      "us.gcr.io       DOCKER  STANDARD_REPOSITORY                                   us                   Google-managed key  2022-10-18T19:20:16  2022-10-18T19:20:16  0\n",
      "vertex-r-batch  DOCKER  STANDARD_REPOSITORY  Docker repository                us-central1          Google-managed key  2022-11-07T16:17:58  2022-11-07T16:55:16  2448.808\n"
     ]
    }
   ],
   "source": [
    "! gcloud artifacts repositories list"
   ]
  },
  {
   "cell_type": "code",
   "execution_count": 15,
   "id": "16b8104d-b668-409c-9199-13cfe966c41b",
   "metadata": {},
   "outputs": [
    {
     "name": "stdout",
     "output_type": "stream",
     "text": [
      "\u001b[1;33mWARNING:\u001b[0m Your config file at [/home/jupyter/.docker/config.json] contains these credential helper entries:\n",
      "\n",
      "{\n",
      "  \"credHelpers\": {\n",
      "    \"gcr.io\": \"gcloud\",\n",
      "    \"us.gcr.io\": \"gcloud\",\n",
      "    \"eu.gcr.io\": \"gcloud\",\n",
      "    \"asia.gcr.io\": \"gcloud\",\n",
      "    \"staging-k8s.gcr.io\": \"gcloud\",\n",
      "    \"marketplace.gcr.io\": \"gcloud\"\n",
      "  }\n",
      "}\n",
      "Adding credentials for: us-central1-docker.pkg.dev\n",
      "Docker configuration file updated.\n"
     ]
    }
   ],
   "source": [
    "! gcloud auth configure-docker $REGION-docker.pkg.dev --quiet"
   ]
  },
  {
   "cell_type": "markdown",
   "id": "7434057a-9532-4062-8a5e-db108653142c",
   "metadata": {},
   "source": [
    "## Create script \n",
    "\n",
    "References: \n",
    "\n",
    "* https://github.com/statmike/vertex-ai-mlops/blob/main/08%20-%20R/08b%20Training%20Job%20-%20Vertex%20AI%20Custom%20Model%20-%20R%20-%20Training%20Pipeline%20With%20Custom%20Container.ipynb\n",
    "* https://github.com/jchavezar/vertex-ai-mlops/blob/main/03%20Tensorflow/03tb%20-%20tfkeras_customjob_xai_tabclass.ipynb"
   ]
  },
  {
   "cell_type": "code",
   "execution_count": 27,
   "id": "e8efacb3-09f3-40fb-a7f0-05301b48a1f4",
   "metadata": {},
   "outputs": [
    {
     "name": "stdout",
     "output_type": "stream",
     "text": [
      "Overwriting src/print.R\n"
     ]
    }
   ],
   "source": [
    "%%writefile src/print.R\n",
    "#!/usr/bin/env Rscript\n",
    "# inputs\n",
    "args <- commandArgs(trailingOnly = TRUE)\n",
    "project_id <- args[1]\n",
    "region <- args[2]\n",
    "gcs_uri_in <- args[3]\n",
    "gcs_uri_out <- args[4]\n",
    "\n",
    "cat(\"project_id: \", project_id)\n",
    "cat(\"region: \", region)\n",
    "cat(\"gcs_uri_in: \", gcs_uri_in)\n",
    "cat(\"gcs_uri_out: \", gcs_uri_out)\n",
    "\n",
    "# printing test\n",
    "print(\"This is printed using the print function\")\n",
    "\n",
    "message(\"This is printed using the message function\")\n",
    "\n",
    "cat(\"This is printed using the cat function\")\n",
    "\n",
    "write(\"This is printed using the write function\", stdout())\n",
    "\n",
    "# view environment vars\n",
    "Sys.getenv()"
   ]
  },
  {
   "cell_type": "markdown",
   "id": "fb44d27c-80d7-42b2-b648-00df8b115049",
   "metadata": {},
   "source": [
    "## Build and push container image"
   ]
  },
  {
   "cell_type": "markdown",
   "id": "65b1f947-e876-4394-8c23-3cfe32c30e55",
   "metadata": {},
   "source": [
    "### Create Dockerfile\n",
    "\n",
    "The docker file for your custom container is built on top of the Deep Learning container -- the same container that is also used for Vertex AI Workbench. In addition, you add two R scripts for model training and serving, respectively."
   ]
  },
  {
   "cell_type": "code",
   "execution_count": 28,
   "id": "2938654b-c33c-441d-8d12-f771f169a5f0",
   "metadata": {},
   "outputs": [
    {
     "data": {
      "text/plain": [
       "'us-central1-docker.pkg.dev/demos-vertex-ai/r-model-02/r-model-02:latest'"
      ]
     },
     "execution_count": 28,
     "metadata": {},
     "output_type": "execute_result"
    }
   ],
   "source": [
    "IMAGE_NAME = \"r-model-02\"  # @param {type:\"string\"}\n",
    "IMAGE_TAG = \"latest\"  # @param {type:\"string\"}\n",
    "IMAGE_URI = f\"{REGION}-docker.pkg.dev/{PROJECT_ID}/{PRIVATE_REPO}/{IMAGE_NAME}:{IMAGE_TAG}\"\n",
    "IMAGE_URI"
   ]
  },
  {
   "cell_type": "code",
   "execution_count": 29,
   "id": "229ab9e2-4e71-485e-8933-5b557a1eeeb9",
   "metadata": {},
   "outputs": [
    {
     "name": "stdout",
     "output_type": "stream",
     "text": [
      "Overwriting ./src/Dockerfile\n"
     ]
    }
   ],
   "source": [
    "%%writefile ./src/Dockerfile\n",
    "\n",
    "FROM gcr.io/deeplearning-platform-release/r-cpu.4-1:latest\n",
    "\n",
    "WORKDIR /root\n",
    "\n",
    "COPY print.R /root/print.R\n",
    "\n",
    "RUN apt-get update\n",
    "RUN apt-get install gfortran -yy"
   ]
  },
  {
   "cell_type": "markdown",
   "id": "aab90b9e-280f-4f86-8be9-201db27d4b96",
   "metadata": {},
   "source": [
    "### Build the Docker container\n",
    "\n",
    "Next, you build the Docker container image on Cloud Build -- the serverless CI/CD platform.\n",
    "\n",
    "*Note:* Building the Docker container image may take 5-10 minutes."
   ]
  },
  {
   "cell_type": "code",
   "execution_count": 36,
   "id": "09510f5f-b18a-4005-b8c3-225128d767b8",
   "metadata": {},
   "outputs": [
    {
     "name": "stdout",
     "output_type": "stream",
     "text": [
      "Creating temporary tarball archive of 2 file(s) totalling 705 bytes before compression.\n",
      "Uploading tarball of [./src] to [gs://demos-vertex-ai_cloudbuild/source/1668114926.58813-3081029dd13645619581053d1dd2e40e.tgz]\n",
      "Created [https://cloudbuild.googleapis.com/v1/projects/demos-vertex-ai/locations/us-central1/builds/d37f3f7a-925c-4751-a76a-e8f80237d434].\n",
      "Logs are available at [ https://console.cloud.google.com/cloud-build/builds;region=us-central1/d37f3f7a-925c-4751-a76a-e8f80237d434?project=746038361521 ].\n",
      "ID                                    CREATE_TIME                DURATION  SOURCE                                                                                        IMAGES  STATUS\n",
      "d37f3f7a-925c-4751-a76a-e8f80237d434  2022-11-10T21:15:27+00:00  -         gs://demos-vertex-ai_cloudbuild/source/1668114926.58813-3081029dd13645619581053d1dd2e40e.tgz  -       QUEUED\n"
     ]
    }
   ],
   "source": [
    "! gcloud builds submit --region=$REGION --tag=$IMAGE_URI --timeout=1h ./src --async"
   ]
  },
  {
   "cell_type": "markdown",
   "id": "fffce0ef-200d-4c56-a434-ba531fcb436c",
   "metadata": {},
   "source": [
    "## Define Configuration"
   ]
  },
  {
   "cell_type": "code",
   "execution_count": 32,
   "id": "0877c731-bc61-422f-93a1-b17366142333",
   "metadata": {},
   "outputs": [],
   "source": [
    "MODEL_NAME = APP_NAME\n",
    "MODEL_DISPLAY_NAME = f\"{MODEL_NAME}\"\n",
    "\n",
    "PIPELINE_NAME = f\"{APP_NAME}-pipeline\"\n",
    "PIPELINE_ROOT = f\"{BUCKET_NAME}/pipeline_root/{MODEL_NAME}\"\n",
    "GCS_STAGING = f\"{BUCKET_NAME}/pipeline_root/{MODEL_NAME}\"\n",
    "\n",
    "IMAGE_URI # defined above\n",
    "\n",
    "PIPELINE_JSON_SPEC_PATH = './src/r-test-pipeline-spec.json'\n",
    "\n",
    "WORKING_DIR = f\"{PIPELINE_ROOT}/{TIMESTAMP}\"\n",
    "WORKING_DIR\n",
    "\n",
    "GCS_URI_IN = f\"{BUCKET_NAME}/pipeline_root/data/raw.csv\"\n",
    "GCS_URI_OUT = f\"{BUCKET_NAME}/pipeline_root/data/clean.csv\""
   ]
  },
  {
   "cell_type": "markdown",
   "id": "fce64b01-f793-4d31-9951-9253488d1b88",
   "metadata": {},
   "source": [
    "### Set command arguments for passing into pipeleine \n"
   ]
  },
  {
   "cell_type": "code",
   "execution_count": 33,
   "id": "30564ead-539b-45b6-a5b2-8693ff16fc27",
   "metadata": {},
   "outputs": [],
   "source": [
    "CMDARGS = [\n",
    "    \"--project_id=\" + PROJECT_ID,\n",
    "    \"--region=\" + REGION,\n",
    "    \"--gcs_uri_in=\" + GCS_URI_IN,\n",
    "    \"--gcs_uri_out=\" + GCS_URI_OUT,\n",
    "]"
   ]
  },
  {
   "cell_type": "markdown",
   "id": "07eadd04-d7df-458c-9009-7a7a1887b1ef",
   "metadata": {},
   "source": [
    "R code using `commandArgs()` does not used named parameters so parse CMDARGS for the R script:"
   ]
  },
  {
   "cell_type": "code",
   "execution_count": 34,
   "id": "4ca4ab7d-cbe8-45f1-ae07-50324bc382d9",
   "metadata": {},
   "outputs": [
    {
     "data": {
      "text/plain": [
       "['demos-vertex-ai',\n",
       " 'us-central1',\n",
       " 'gs://demos-vertex-ai-aip-r-model-02-20221110202015/pipeline_root/data/raw.csv',\n",
       " 'gs://demos-vertex-ai-aip-r-model-02-20221110202015/pipeline_root/data/clean.csv']"
      ]
     },
     "execution_count": 34,
     "metadata": {},
     "output_type": "execute_result"
    }
   ],
   "source": [
    "CMDARGS = [c.split('=')[-1] for c in CMDARGS]\n",
    "CMDARGS"
   ]
  },
  {
   "cell_type": "markdown",
   "id": "91fd7068-a9b1-4923-9057-05b1fc86e5a7",
   "metadata": {
    "id": "joJRXsSNmTBP"
   },
   "source": [
    "## Define Pipeline\n",
    "\n",
    "\n",
    "* Example - Pipeline - https://github.com/JowGarrido/kfp-r-models/blob/main/pipeline_definition.ipynb \n",
    "* SDK Vertex - https://cloud.google.com/python/docs/reference/aiplatform/latest/google.cloud.aiplatform.CustomJob\n",
    "* API Vertex - https://cloud.google.com/vertex-ai/docs/reference/rest/v1/CustomJobSpec\n",
    "* Pipeline component - https://google-cloud-pipeline-components.readthedocs.io/en/google-cloud-pipeline-components-1.0.26/google_cloud_pipeline_components.v1.custom_job.html\n"
   ]
  },
  {
   "cell_type": "code",
   "execution_count": 37,
   "id": "20de2825-a1e1-4cde-bb0e-80fcda4ed7ab",
   "metadata": {},
   "outputs": [],
   "source": [
    "@dsl.pipeline(\n",
    "    name = PIPELINE_NAME, \n",
    "    pipeline_root = PIPELINE_ROOT)\n",
    "def r_pipeline():\n",
    "    print_task = (\n",
    "        CustomTrainingJobOp(\n",
    "            project = PROJECT_ID,\n",
    "            location = REGION,\n",
    "            display_name = \"Run R script\",\n",
    "            base_output_directory = WORKING_DIR,\n",
    "            worker_pool_specs=[\n",
    "                {\n",
    "                    \"containerSpec\": {\n",
    "                        \"imageUri\": IMAGE_URI,\n",
    "                        \"command\": [\"Rscript\", \"print.R\"],\n",
    "                        \"args\": CMDARGS,\n",
    "                    },\n",
    "                    \"replicaCount\": \"1\",\n",
    "                    \"machineSpec\": {\n",
    "                        \"machineType\": \"n1-standard-16\"\n",
    "                    },\n",
    "                }\n",
    "            ],\n",
    "        )\n",
    "        .set_display_name(\"Run R script\")\n",
    "        .set_caching_options(False)\n",
    "    )"
   ]
  },
  {
   "cell_type": "code",
   "execution_count": 38,
   "id": "68532308-ccbe-4641-a309-07dc84625d7a",
   "metadata": {},
   "outputs": [
    {
     "name": "stderr",
     "output_type": "stream",
     "text": [
      "/home/jupyter/.local/lib/python3.7/site-packages/kfp/v2/compiler/compiler.py:1293: FutureWarning: APIs imported from the v1 namespace (e.g. kfp.dsl, kfp.components, etc) will not be supported by the v2 compiler since v2.0.0\n",
      "  category=FutureWarning,\n"
     ]
    }
   ],
   "source": [
    "compiler.Compiler().compile(pipeline_func = r_pipeline, \n",
    "                            package_path = PIPELINE_JSON_SPEC_PATH)"
   ]
  },
  {
   "cell_type": "code",
   "execution_count": null,
   "id": "d1aca9d2-f963-4a61-8efe-61c2ff33dae4",
   "metadata": {},
   "outputs": [],
   "source": [
    "aiplatform.init(project=PROJECT_ID, location=REGION, staging_bucket=BUCKET_NAME)"
   ]
  },
  {
   "cell_type": "code",
   "execution_count": null,
   "id": "22c06cd4-ac64-4b55-82ee-e7d2363a614a",
   "metadata": {},
   "outputs": [],
   "source": [
    "job = pipeline_jobs.PipelineJob(\n",
    "    display_name = 'r_print_test',\n",
    "    template_path = PIPELINE_JSON_SPEC_PATH,\n",
    "    pipeline_root = PIPELINE_ROOT,\n",
    "    enable_caching = False\n",
    ")\n",
    "\n",
    "job.submit()"
   ]
  }
 ],
 "metadata": {
  "environment": {
   "kernel": "python3",
   "name": "common-cpu.m100",
   "type": "gcloud",
   "uri": "gcr.io/deeplearning-platform-release/base-cpu:m100"
  },
  "kernelspec": {
   "display_name": "Python 3",
   "language": "python",
   "name": "python3"
  },
  "language_info": {
   "codemirror_mode": {
    "name": "ipython",
    "version": 3
   },
   "file_extension": ".py",
   "mimetype": "text/x-python",
   "name": "python",
   "nbconvert_exporter": "python",
   "pygments_lexer": "ipython3",
   "version": "3.7.12"
  }
 },
 "nbformat": 4,
 "nbformat_minor": 5
}
